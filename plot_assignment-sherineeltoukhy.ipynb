{
 "cells": [
  {
   "cell_type": "code",
   "execution_count": null,
   "metadata": {
    "collapsed": true
   },
   "outputs": [],
   "source": [
    "# creating a conda environment\n",
    "c:\\Users\\eltoukhysm>conda create -n pandas python=3.6 pandas\n",
    "c:\\Users\\eltoukhysm>activate pandas\n",
    "c:\\Users\\eltoukhysm>python"
   ]
  },
  {
   "cell_type": "code",
   "execution_count": 1,
   "metadata": {
    "collapsed": true
   },
   "outputs": [],
   "source": [
    "#importing packages\n",
    "import pandas as pd\n",
    "import numpy as np\n",
    "import matplotlib.pyplot as plt\n",
    "%matplotlib inline"
   ]
  },
  {
   "cell_type": "code",
   "execution_count": 2,
   "metadata": {
    "collapsed": true
   },
   "outputs": [],
   "source": [
    "# reading in csv file of tweets\n",
    "df = pd.read_csv(r'c:\\Users\\eltoukhysm\\Biof309_Fall2017\\Assignments\\Loop_assignment\\tweets.csv')"
   ]
  },
  {
   "cell_type": "code",
   "execution_count": 6,
   "metadata": {
    "collapsed": true
   },
   "outputs": [],
   "source": [
    "#creating a subset dataframe with only tweets that were favored or retweeted one or more times\n",
    "df1 = df[np.logical_and(df[\"favorite_count\"]>=1, df[\"retweet_count\"]>=1)]"
   ]
  },
  {
   "cell_type": "code",
   "execution_count": 8,
   "metadata": {},
   "outputs": [
    {
     "data": {
      "text/html": [
       "<div>\n",
       "<style>\n",
       "    .dataframe thead tr:only-child th {\n",
       "        text-align: right;\n",
       "    }\n",
       "\n",
       "    .dataframe thead th {\n",
       "        text-align: left;\n",
       "    }\n",
       "\n",
       "    .dataframe tbody tr th {\n",
       "        vertical-align: top;\n",
       "    }\n",
       "</style>\n",
       "<table border=\"1\" class=\"dataframe\">\n",
       "  <thead>\n",
       "    <tr style=\"text-align: right;\">\n",
       "      <th></th>\n",
       "      <th>idstr</th>\n",
       "      <th>date</th>\n",
       "      <th>state</th>\n",
       "      <th>text</th>\n",
       "      <th>favorite_count</th>\n",
       "      <th>retweet_count</th>\n",
       "      <th>favorite</th>\n",
       "      <th>retweet</th>\n",
       "    </tr>\n",
       "  </thead>\n",
       "  <tbody>\n",
       "    <tr>\n",
       "      <th>37</th>\n",
       "      <td>596485597335662593</td>\n",
       "      <td>Fri May 08 01:23:43 +0000 2015</td>\n",
       "      <td>NaN</td>\n",
       "      <td>Research found that marijuana does not damage ...</td>\n",
       "      <td>1</td>\n",
       "      <td>1</td>\n",
       "      <td>low</td>\n",
       "      <td>low</td>\n",
       "    </tr>\n",
       "    <tr>\n",
       "      <th>38</th>\n",
       "      <td>338100487184318465</td>\n",
       "      <td>Sat May 25 01:13:32 +0000 2013</td>\n",
       "      <td>NY</td>\n",
       "      <td>Chewing tobacco is a complete turnoff. Especia...</td>\n",
       "      <td>3</td>\n",
       "      <td>6</td>\n",
       "      <td>low</td>\n",
       "      <td>low</td>\n",
       "    </tr>\n",
       "    <tr>\n",
       "      <th>112</th>\n",
       "      <td>602184535736918017</td>\n",
       "      <td>Sat May 23 18:49:16 +0000 2015</td>\n",
       "      <td>WA</td>\n",
       "      <td>*smokes joint* dude I swear the only thing to ...</td>\n",
       "      <td>11</td>\n",
       "      <td>2</td>\n",
       "      <td>high</td>\n",
       "      <td>low</td>\n",
       "    </tr>\n",
       "    <tr>\n",
       "      <th>126</th>\n",
       "      <td>614811102359072768</td>\n",
       "      <td>Sat Jun 27 15:02:44 +0000 2015</td>\n",
       "      <td>NaN</td>\n",
       "      <td>#MSGKickToDrugs bcz chewing tobacco and snuff ...</td>\n",
       "      <td>2</td>\n",
       "      <td>6</td>\n",
       "      <td>low</td>\n",
       "      <td>low</td>\n",
       "    </tr>\n",
       "    <tr>\n",
       "      <th>129</th>\n",
       "      <td>284773487070031873</td>\n",
       "      <td>Fri Dec 28 21:31:04 +0000 2012</td>\n",
       "      <td>NaN</td>\n",
       "      <td>—Ayer fue mi cumpleaños. —Felhiciidaadezz AmiW...</td>\n",
       "      <td>1</td>\n",
       "      <td>1</td>\n",
       "      <td>low</td>\n",
       "      <td>low</td>\n",
       "    </tr>\n",
       "  </tbody>\n",
       "</table>\n",
       "</div>"
      ],
      "text/plain": [
       "                  idstr                            date state  \\\n",
       "37   596485597335662593  Fri May 08 01:23:43 +0000 2015   NaN   \n",
       "38   338100487184318465  Sat May 25 01:13:32 +0000 2013    NY   \n",
       "112  602184535736918017  Sat May 23 18:49:16 +0000 2015    WA   \n",
       "126  614811102359072768  Sat Jun 27 15:02:44 +0000 2015   NaN   \n",
       "129  284773487070031873  Fri Dec 28 21:31:04 +0000 2012   NaN   \n",
       "\n",
       "                                                  text  favorite_count  \\\n",
       "37   Research found that marijuana does not damage ...               1   \n",
       "38   Chewing tobacco is a complete turnoff. Especia...               3   \n",
       "112  *smokes joint* dude I swear the only thing to ...              11   \n",
       "126  #MSGKickToDrugs bcz chewing tobacco and snuff ...               2   \n",
       "129  —Ayer fue mi cumpleaños. —Felhiciidaadezz AmiW...               1   \n",
       "\n",
       "     retweet_count favorite retweet  \n",
       "37               1      low     low  \n",
       "38               6      low     low  \n",
       "112              2     high     low  \n",
       "126              6      low     low  \n",
       "129              1      low     low  "
      ]
     },
     "execution_count": 8,
     "metadata": {},
     "output_type": "execute_result"
    }
   ],
   "source": [
    "#creating a function low/high based on mean favorite_count (10.62) and retweet_count(18.09)\n",
    "f = []\n",
    "for row in df1['favorite_count']:\n",
    "    if row < 10.62:\n",
    "        f.append('low')\n",
    "    elif row > 10.62:\n",
    "        f.append('high')\n",
    "\n",
    "r = []\n",
    "for row in df1['retweet_count']:\n",
    "    if row < 18.09:\n",
    "        r.append('low')\n",
    "    elif row >18.09:\n",
    "        r.append('high')\n",
    "\n",
    "df1 = df1.assign(favorite=f)\n",
    "df1 = df1.assign(retweet=r)\n",
    "\n",
    "df1.head()"
   ]
  },
  {
   "cell_type": "code",
   "execution_count": 21,
   "metadata": {},
   "outputs": [
    {
     "data": {
      "image/png": "[encoded data removed]",
      "text/plain": [
       "<matplotlib.figure.Figure at 0x150d7d95860>"
      ]
     },
     "metadata": {},
     "output_type": "display_data"
    }
   ],
   "source": [
    "#Creating a plot for categorical favorite and retweet\n",
    "df1['favorite'].value_counts().plot(kind='bar')\n",
    "plt.xlabel('Favored counts categorical')\n",
    "plt.ylabel('Number of counts')\n",
    "plt.title('Figure 1: Number of times favored')\n",
    "plt.savefig('plot1.png')\n",
    "plt.show()"
   ]
  },
  {
   "cell_type": "code",
   "execution_count": 22,
   "metadata": {},
   "outputs": [
    {
     "data": {
      "image/png": "[encoded data removed]",
      "text/plain": [
       "<matplotlib.figure.Figure at 0x150d92c8780>"
      ]
     },
     "metadata": {},
     "output_type": "display_data"
    }
   ],
   "source": [
    "#Creating a plot for categorical favorite and retweet\n",
    "df1['retweet'].value_counts().plot(kind='bar')\n",
    "plt.xlabel('Retweet counts categorical')\n",
    "plt.ylabel('Number of counts')\n",
    "plt.title('Figure 2: Number of times retweeted')\n",
    "plt.savefig('plot2.png')\n",
    "plt.show()"
   ]
  }
 ],
 "metadata": {
  "kernelspec": {
   "display_name": "Python 3",
   "language": "python",
   "name": "python3"
  },
  "language_info": {
   "codemirror_mode": {
    "name": "ipython",
    "version": 3
   },
   "file_extension": ".py",
   "mimetype": "text/x-python",
   "name": "python",
   "nbconvert_exporter": "python",
   "pygments_lexer": "ipython3",
   "version": "3.6.1"
  }
 },
 "nbformat": 4,
 "nbformat_minor": 2
}
